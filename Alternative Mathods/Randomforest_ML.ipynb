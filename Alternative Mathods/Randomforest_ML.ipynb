{
  "nbformat": 4,
  "nbformat_minor": 0,
  "metadata": {
    "colab": {
      "provenance": []
    },
    "kernelspec": {
      "name": "python3",
      "display_name": "Python 3"
    },
    "language_info": {
      "name": "python"
    }
  },
  "cells": [
    {
      "cell_type": "code",
      "execution_count": null,
      "metadata": {
        "id": "9sW8KXd0F_2H"
      },
      "outputs": [],
      "source": [
        "import pandas as pd\n",
        "import numpy as np\n",
        "from sklearn.preprocessing import OneHotEncoder\n",
        "from category_encoders import TargetEncoder\n",
        "from sklearn.preprocessing import StandardScaler\n",
        "from sklearn.model_selection import train_test_split\n",
        "from sklearn.tree import DecisionTreeClassifier\n",
        "from sklearn.ensemble import RandomForestClassifier\n",
        "from sklearn.metrics import confusion_matrix\n",
        "from sklearn.metrics import f1_score\n",
        "from sklearn.model_selection import cross_validate\n",
        "import plotly.graph_objects as go\n",
        "from sklearn.metrics import roc_curve, auc"
      ]
    },
    {
      "cell_type": "code",
      "source": [
        "!pip install category_encoders scikit-learn plotly"
      ],
      "metadata": {
        "colab": {
          "base_uri": "https://localhost:8080/"
        },
        "id": "vmVLkc3lhLTf",
        "outputId": "68438664-fb0c-4432-c9ff-4420edb7f583"
      },
      "execution_count": null,
      "outputs": [
        {
          "output_type": "stream",
          "name": "stdout",
          "text": [
            "Looking in indexes: https://pypi.org/simple, https://us-python.pkg.dev/colab-wheels/public/simple/\n",
            "Collecting category_encoders\n",
            "  Downloading category_encoders-2.6.0-py2.py3-none-any.whl (81 kB)\n",
            "\u001b[?25l     \u001b[90m━━━━━━━━━━━━━━━━━━━━━━━━━━━━━━━━━━━━━━━━\u001b[0m \u001b[32m0.0/81.2 kB\u001b[0m \u001b[31m?\u001b[0m eta \u001b[36m-:--:--\u001b[0m\r\u001b[2K     \u001b[90m━━━━━━━━━━━━━━━━━━━━━━━━━━━━━━━━━━━━━━━━\u001b[0m \u001b[32m81.2/81.2 kB\u001b[0m \u001b[31m3.8 MB/s\u001b[0m eta \u001b[36m0:00:00\u001b[0m\n",
            "\u001b[?25hRequirement already satisfied: scikit-learn in /usr/local/lib/python3.9/dist-packages (1.2.2)\n",
            "Requirement already satisfied: plotly in /usr/local/lib/python3.9/dist-packages (5.13.1)\n",
            "Requirement already satisfied: statsmodels>=0.9.0 in /usr/local/lib/python3.9/dist-packages (from category_encoders) (0.13.5)\n",
            "Requirement already satisfied: scipy>=1.0.0 in /usr/local/lib/python3.9/dist-packages (from category_encoders) (1.10.1)\n",
            "Requirement already satisfied: pandas>=1.0.5 in /usr/local/lib/python3.9/dist-packages (from category_encoders) (1.5.3)\n",
            "Requirement already satisfied: numpy>=1.14.0 in /usr/local/lib/python3.9/dist-packages (from category_encoders) (1.22.4)\n",
            "Requirement already satisfied: patsy>=0.5.1 in /usr/local/lib/python3.9/dist-packages (from category_encoders) (0.5.3)\n",
            "Requirement already satisfied: joblib>=1.1.1 in /usr/local/lib/python3.9/dist-packages (from scikit-learn) (1.2.0)\n",
            "Requirement already satisfied: threadpoolctl>=2.0.0 in /usr/local/lib/python3.9/dist-packages (from scikit-learn) (3.1.0)\n",
            "Requirement already satisfied: tenacity>=6.2.0 in /usr/local/lib/python3.9/dist-packages (from plotly) (8.2.2)\n",
            "Requirement already satisfied: python-dateutil>=2.8.1 in /usr/local/lib/python3.9/dist-packages (from pandas>=1.0.5->category_encoders) (2.8.2)\n",
            "Requirement already satisfied: pytz>=2020.1 in /usr/local/lib/python3.9/dist-packages (from pandas>=1.0.5->category_encoders) (2022.7.1)\n",
            "Requirement already satisfied: six in /usr/local/lib/python3.9/dist-packages (from patsy>=0.5.1->category_encoders) (1.16.0)\n",
            "Requirement already satisfied: packaging>=21.3 in /usr/local/lib/python3.9/dist-packages (from statsmodels>=0.9.0->category_encoders) (23.0)\n",
            "Installing collected packages: category_encoders\n",
            "Successfully installed category_encoders-2.6.0\n"
          ]
        }
      ]
    },
    {
      "cell_type": "code",
      "source": [
        "df_original = pd.read_csv('European_bank_marketing.csv')\n",
        "df_featured = pd.read_csv('ml_final.csv')"
      ],
      "metadata": {
        "id": "KH0JbWZrJKe8"
      },
      "execution_count": null,
      "outputs": []
    },
    {
      "cell_type": "code",
      "source": [
        "def apply_categorical_encodings(df, threshold):\n",
        "  for col in df.columns:\n",
        "    if pd.api.types.is_categorical_dtype(df[col]) or pd.api.types.is_object_dtype(df[col]):\n",
        "      unique_values = df[col].nunique()\n",
        "      if unique_values <= threshold:\n",
        "        target_encoder = TargetEncoder()\n",
        "        df[col] = target_encoder.fit_transform(df[col], df['term_deposit'])\n",
        "      else:\n",
        "        df = pd.get_dummies(df, columns=[col], prefix=[col], drop_first=True)\n",
        "  return df"
      ],
      "metadata": {
        "id": "8i9054ULI5TI"
      },
      "execution_count": null,
      "outputs": []
    },
    {
      "cell_type": "code",
      "source": [
        "X_encoded = apply_categorical_encodings(df_original,3)\n",
        "X_encoded_featured = apply_categorical_encodings(df_featured,3)"
      ],
      "metadata": {
        "id": "hhsJPVb0Kk-P"
      },
      "execution_count": null,
      "outputs": []
    },
    {
      "cell_type": "code",
      "source": [
        "def train_rf_model(df, target_var, test_size=0.3, random_state=42, params=None):\n",
        "    # Split data into X and y\n",
        "    X = df.drop(target_var, axis=1)\n",
        "    y = df[target_var]\n",
        "\n",
        "    # Train/test split\n",
        "    X_train, X_val, y_train, y_val = train_test_split(X, y, test_size=test_size, random_state=random_state, stratify=y)\n",
        "\n",
        "    # Set default hyperparameters for the random forest model\n",
        "    if params is None:\n",
        "        params = {\n",
        "            'n_estimators': 100,\n",
        "            'max_depth': None,\n",
        "            'min_samples_split': 2,\n",
        "            'min_samples_leaf': 1,\n",
        "            'max_features': 'auto',\n",
        "            'bootstrap': True,\n",
        "            'random_state': random_state\n",
        "        }\n",
        "\n",
        "    # Train the random forest model\n",
        "    model = RandomForestClassifier(**params)\n",
        "    model.fit(X_train, y_train)\n",
        "\n",
        "    return model, X_val, y_val\n"
      ],
      "metadata": {
        "id": "_kJYrHRbLO80"
      },
      "execution_count": null,
      "outputs": []
    },
    {
      "cell_type": "code",
      "source": [
        "model,X_val, y_val = train_rf_model(X_encoded, 'term_deposit')\n",
        "model_f,X_val_f, y_val_f = train_rf_model(X_encoded_featured, 'term_deposit')"
      ],
      "metadata": {
        "colab": {
          "base_uri": "https://localhost:8080/"
        },
        "id": "c9XFY-dIinS5",
        "outputId": "b558a54a-7417-4dcf-fb4f-a751d3e67c8d"
      },
      "execution_count": null,
      "outputs": [
        {
          "output_type": "stream",
          "name": "stderr",
          "text": [
            "/usr/local/lib/python3.9/dist-packages/sklearn/ensemble/_forest.py:424: FutureWarning: `max_features='auto'` has been deprecated in 1.1 and will be removed in 1.3. To keep the past behaviour, explicitly set `max_features='sqrt'` or remove this parameter as it is also the default value for RandomForestClassifiers and ExtraTreesClassifiers.\n",
            "  warn(\n",
            "/usr/local/lib/python3.9/dist-packages/sklearn/ensemble/_forest.py:424: FutureWarning: `max_features='auto'` has been deprecated in 1.1 and will be removed in 1.3. To keep the past behaviour, explicitly set `max_features='sqrt'` or remove this parameter as it is also the default value for RandomForestClassifiers and ExtraTreesClassifiers.\n",
            "  warn(\n"
          ]
        }
      ]
    },
    {
      "cell_type": "code",
      "source": [
        "def evaluate_threshold(model, X, y_true, threshold):\n",
        "    y_pred_proba = model.predict_proba(X)[:, 1]\n",
        "    y_pred = (y_pred_proba >= threshold).astype(int)\n",
        "    tn, fp, fn, tp = confusion_matrix(y_true, y_pred).ravel()\n",
        "    tpr = tp / (tp + fn)\n",
        "    fpr = fp / (fp + tn)\n",
        "    f1 = f1_score(y_true, y_pred)\n",
        "    return tn, fp, fn, tp, tpr, fpr, f1\n",
        "\n",
        "thresholds = [0.1, 0.2, 0.35, 0.5]\n",
        "\n",
        "for threshold in thresholds:\n",
        "    tn, fp, fn, tp, tpr, fpr, f1 = evaluate_threshold(model, X_val, y_val, threshold)\n",
        "    print(f\"Threshold Model 1: {threshold:.2f} | Confusion Matrix: TN={tn}, FP={fp}, FN={fn}, TP={tp} | TPR={tpr:.2f} | FPR={fpr:.2f} | F1 Score={f1:.2f}\")\n",
        "    \n",
        "    tn_f, fp_f, fn_f, tp_f, tpr_f, fpr_f, f1_f = evaluate_threshold(model_f, X_val_f, y_val_f, threshold)\n",
        "    print(f\"Threshold Model 2: {threshold:.2f} | Confusion Matrix: TN={tn_f}, FP={fp_f}, FN={fn_f}, TP={tp_f} | TPR={tpr_f:.2f} | FPR={fpr_f:.2f} | F1 Score={f1_f:.2f}\")\n",
        "    print(\"------------------------------------------------------------------------------------------\")\n"
      ],
      "metadata": {
        "colab": {
          "base_uri": "https://localhost:8080/"
        },
        "id": "VphZD49Ii62X",
        "outputId": "8564b59c-eb1d-4ebc-b0f4-d96418199af9"
      },
      "execution_count": null,
      "outputs": [
        {
          "output_type": "stream",
          "name": "stdout",
          "text": [
            "Threshold Model 1: 0.10 | Confusion Matrix: TN=9078, FP=1887, FN=79, TP=1313 | TPR=0.94 | FPR=0.17 | F1 Score=0.57\n",
            "Threshold Model 2: 0.10 | Confusion Matrix: TN=9063, FP=1902, FN=93, TP=1299 | TPR=0.93 | FPR=0.17 | F1 Score=0.57\n",
            "------------------------------------------------------------------------------------------\n",
            "Threshold Model 1: 0.20 | Confusion Matrix: TN=9686, FP=1279, FN=164, TP=1228 | TPR=0.88 | FPR=0.12 | F1 Score=0.63\n",
            "Threshold Model 2: 0.20 | Confusion Matrix: TN=9655, FP=1310, FN=182, TP=1210 | TPR=0.87 | FPR=0.12 | F1 Score=0.62\n",
            "------------------------------------------------------------------------------------------\n",
            "Threshold Model 1: 0.35 | Confusion Matrix: TN=10221, FP=744, FN=363, TP=1029 | TPR=0.74 | FPR=0.07 | F1 Score=0.65\n",
            "Threshold Model 2: 0.35 | Confusion Matrix: TN=10201, FP=764, FN=374, TP=1018 | TPR=0.73 | FPR=0.07 | F1 Score=0.64\n",
            "------------------------------------------------------------------------------------------\n",
            "Threshold Model 1: 0.50 | Confusion Matrix: TN=10615, FP=350, FN=664, TP=728 | TPR=0.52 | FPR=0.03 | F1 Score=0.59\n",
            "Threshold Model 2: 0.50 | Confusion Matrix: TN=10563, FP=402, FN=658, TP=734 | TPR=0.53 | FPR=0.04 | F1 Score=0.58\n",
            "------------------------------------------------------------------------------------------\n"
          ]
        }
      ]
    },
    {
      "cell_type": "code",
      "source": [
        "import numpy as np\n",
        "import plotly.graph_objects as go\n",
        "from sklearn.metrics import auc, roc_curve, f1_score\n",
        "\n",
        "# Get the predicted probabilities of the positive class\n",
        "y_pred_proba = model.predict_proba(X_val)[:, 1]\n",
        "y_pred_proba_f = model_f.predict_proba(X_val_f)[:, 1]\n",
        "\n",
        "# Compute the false positive rate (FPR), true positive rate (TPR), and threshold for the ROC curve\n",
        "fpr, tpr, thresholds = roc_curve(y_val, y_pred_proba, pos_label=1)\n",
        "fpr_f, tpr_f, thresholds = roc_curve(y_val_f, y_pred_proba_f, pos_label=1)\n",
        "\n",
        "# Compute the area under the curve (AUC) of the ROC curve\n",
        "roc_auc = auc(fpr, tpr)\n",
        "roc_auc_f = auc(fpr_f, tpr_f)\n",
        "\n",
        "# Compute the F1 score\n",
        "y_pred = np.round(y_pred_proba)\n",
        "y_pred_f = np.round(y_pred_proba_f)\n",
        "f1 = f1_score(y_val, y_pred)\n",
        "f1_f = f1_score(y_val_f, y_pred_f)\n",
        "\n",
        "# Plot the ROC curve\n",
        "fig = go.Figure()\n",
        "fig.add_trace(go.Scatter(x=fpr, y=tpr, mode='lines', name='ROC curve Model 1 (AUC = %f)' % roc_auc))\n",
        "fig.add_trace(go.Scatter(x=fpr_f, y=tpr_f, mode='lines', name='ROC curve Model 2 (AUC = %f)' % roc_auc_f))\n",
        "fig.add_trace(go.Scatter(x=[0, 1], y=[0, 1], mode='lines', name='Random Classifier'))\n",
        "fig.update_layout(title='Receiver Operating Characteristic (ROC) Curve',\n",
        "                  xaxis_title='False Positive Rate (FPR)',\n",
        "                  yaxis_title='True Positive Rate (TPR)',\n",
        "                  legend=dict(x=0.1, y=0.9))\n",
        "fig.add_annotation(\n",
        "    x=0.5, y=0.1,\n",
        "    text='F1 Score Model 1: {:.4f}<br>F1 Score Model 2: {:.4f}'.format(f1, f1_f),\n",
        "    showarrow=False,\n",
        "    font=dict(size=12),\n",
        "    bgcolor='white',\n",
        "    bordercolor='black',\n",
        "    borderwidth=1,\n",
        "    opacity=0.8\n",
        ")\n",
        "fig.show()\n"
      ],
      "metadata": {
        "colab": {
          "base_uri": "https://localhost:8080/",
          "height": 542
        },
        "id": "aSchDdvSjeqF",
        "outputId": "ab5d3a83-d25f-42b7-bb15-d78447a0764b"
      },
      "execution_count": null,
      "outputs": [
        {
          "output_type": "display_data",
          "data": {
            "text/html": [
              "<html>\n",
              "<head><meta charset=\"utf-8\" /></head>\n",
              "<body>\n",
              "    <div>            <script src=\"https://cdnjs.cloudflare.com/ajax/libs/mathjax/2.7.5/MathJax.js?config=TeX-AMS-MML_SVG\"></script><script type=\"text/javascript\">if (window.MathJax && window.MathJax.Hub && window.MathJax.Hub.Config) {window.MathJax.Hub.Config({SVG: {font: \"STIX-Web\"}});}</script>                <script type=\"text/javascript\">window.PlotlyConfig = {MathJaxConfig: 'local'};</script>\n",
              "        <script src=\"https://cdn.plot.ly/plotly-2.18.2.min.js\"></script>                <div id=\"1f3bad8a-fd6e-4cf7-bc0d-a08187b30f88\" class=\"plotly-graph-div\" style=\"height:525px; width:100%;\"></div>            <script type=\"text/javascript\">                                    window.PLOTLYENV=window.PLOTLYENV || {};                                    if (document.getElementById(\"1f3bad8a-fd6e-4cf7-bc0d-a08187b30f88\")) {                    Plotly.newPlot(                        \"1f3bad8a-fd6e-4cf7-bc0d-a08187b30f88\",                        [{\"mode\":\"lines\",\"name\":\"ROC curve Model 1 (AUC = 0.943125)\",\"x\":[0.0,0.0,0.0,0.0,0.0001823985408116735,0.0001823985408116735,0.00027359781121751026,0.00045599635202918376,0.00045599635202918376,0.0006383948928408573,0.000729594163246694,0.0010031919744642043,0.0011855905152758778,0.0011855905152758778,0.0012767897856817145,0.0012767897856817145,0.0016415868673050615,0.001823985408116735,0.002188782489740082,0.0028271773825809393,0.0031007751937984496,0.0031919744642042863,0.003739170086639307,0.004286365709074327,0.004651162790697674,0.005198358413132695,0.005563155494756042,0.006383948928408573,0.006931144550843593,0.007934336525307797,0.008937528499772002,0.009575923392612859,0.010761513907888737,0.011855905152758778,0.012403100775193798,0.012950296397628819,0.01431828545371637,0.01595987232102143,0.016963064295485636,0.018695850433196534,0.019881440948472412,0.021158230734154126,0.022891016871865025,0.024806201550387597,0.026903784769721842,0.029092567259461924,0.031098951208390332,0.03191974464204286,0.034108527131782945,0.036114911080711354,0.038030095759233926,0.040310077519379844,0.0426812585499316,0.04468764249886001,0.04742362061103511,0.05006839945280438,0.05198358413132695,0.05444596443228454,0.05672594619243046,0.05891472868217054,0.06155950752393981,0.06484268125854993,0.06785225718194254,0.06958504331965344,0.07177382580939352,0.0746922024623803,0.07715458276333789,0.08180574555403557,0.08445052439580483,0.08773369813041496,0.09101687186502508,0.09475604195166439,0.09721842225262198,0.1012311901504788,0.10442316461468308,0.10807113543091655,0.1121751025991792,0.1166438668490652,0.12038303693570451,0.1250341997264022,0.1305061559507524,0.13524851801185592,0.14008207934336525,0.1449156406748746,0.1511171910624715,0.15850433196534428,0.1652530779753762,0.17209302325581396,0.18075695394436844,0.19124487004103968,0.20337437300501596,0.21504787961696306,0.2275421796625627,0.2468764249886001,0.27906976744186046,0.33360693114455087,0.4746922024623803,1.0],\"y\":[0.0,0.0007183908045977011,0.0021551724137931034,0.005747126436781609,0.009339080459770116,0.015804597701149427,0.020114942528735632,0.022270114942528736,0.03017241379310345,0.039511494252873564,0.05028735632183908,0.05244252873563218,0.05747126436781609,0.0668103448275862,0.07327586206896551,0.07830459770114942,0.08620689655172414,0.09051724137931035,0.09841954022988506,0.11206896551724138,0.11709770114942529,0.1278735632183908,0.13793103448275862,0.15517241379310345,0.16163793103448276,0.17672413793103448,0.18606321839080459,0.20474137931034483,0.21839080459770116,0.23419540229885058,0.2514367816091954,0.2665229885057471,0.27945402298850575,0.2938218390804598,0.3074712643678161,0.319683908045977,0.34123563218390807,0.36063218390804597,0.3764367816091954,0.39439655172413796,0.4109195402298851,0.42528735632183906,0.4468390804597701,0.46048850574712646,0.47270114942528735,0.49137931034482757,0.5035919540229885,0.5229885057471264,0.5352011494252874,0.5495689655172413,0.569683908045977,0.5775862068965517,0.5955459770114943,0.6099137931034483,0.6228448275862069,0.6379310344827587,0.6566091954022989,0.6724137931034483,0.6867816091954023,0.7025862068965517,0.7140804597701149,0.7298850574712644,0.7392241379310345,0.7471264367816092,0.7579022988505747,0.7708333333333334,0.7823275862068966,0.7931034482758621,0.8024425287356322,0.8117816091954023,0.8175287356321839,0.8225574712643678,0.8304597701149425,0.8397988505747126,0.8512931034482759,0.8627873563218391,0.8742816091954023,0.882183908045977,0.8908045977011494,0.8936781609195402,0.9001436781609196,0.9073275862068966,0.9109195402298851,0.9188218390804598,0.9281609195402298,0.9353448275862069,0.9396551724137931,0.9432471264367817,0.9468390804597702,0.9533045977011494,0.9561781609195402,0.9619252873563219,0.9669540229885057,0.9705459770114943,0.9770114942528736,0.9841954022988506,0.9906609195402298,1.0],\"type\":\"scatter\"},{\"mode\":\"lines\",\"name\":\"ROC curve Model 2 (AUC = 0.939824)\",\"x\":[0.0,0.0,0.0,0.0,9.119927040583675e-05,9.119927040583675e-05,9.119927040583675e-05,0.0001823985408116735,0.00027359781121751026,0.00027359781121751026,0.000364797081623347,0.00045599635202918376,0.000729594163246694,0.001094391244870041,0.001094391244870041,0.0011855905152758778,0.0020063839489284085,0.002279981760145919,0.002644778841769266,0.0031919744642042863,0.0034655722754217966,0.004468764249886001,0.005107159142726858,0.005380756953944368,0.006019151846785226,0.006292749658002736,0.00674874601003192,0.007660738714090287,0.008207934336525308,0.008846329229366165,0.009575923392612859,0.01121751025991792,0.012038303693570451,0.01404468764249886,0.015230278157774738,0.017054263565891473,0.01878704970360237,0.020063839489284085,0.021431828545371637,0.022526219790241678,0.023985408116735066,0.02526219790241678,0.02663018695850433,0.02836297309621523,0.030095759233926128,0.03164614683082535,0.03347013223894209,0.03502051983584131,0.036662106703146374,0.038030095759233926,0.03985408116735066,0.04149566803465572,0.04331965344277246,0.0461468308253534,0.04860921112631099,0.050980392156862744,0.054354765161878704,0.056269949840401276,0.058549931600547195,0.06119471044231646,0.0630186958504332,0.06566347469220246,0.06766985864113087,0.06967624259005928,0.07222982216142271,0.07523939808481532,0.0784313725490196,0.08153214774281806,0.08408572731418149,0.08755129958960328,0.09037847697218422,0.09347925216598267,0.09694482444140447,0.09986320109439124,0.10250797993616051,0.10679434564523484,0.11153670770633835,0.11573187414500684,0.11947104423164615,0.12512539899680802,0.1292293661650707,0.13479252165982672,0.13880528955768354,0.1439124487004104,0.1483812129502964,0.15303237574099407,0.15941632466940264,0.16589147286821707,0.1734610123119015,0.18048335613315095,0.1900592795257638,0.19781121751025993,0.21012311901504788,0.2220702234382125,0.23684450524395806,0.2533515731874145,0.2836297309621523,0.35777473780209756,1.0],\"y\":[0.0,0.0014367816091954023,0.005747126436781609,0.007902298850574713,0.015804597701149427,0.020114942528735632,0.028017241379310345,0.033045977011494254,0.03735632183908046,0.040948275862068964,0.05028735632183908,0.05747126436781609,0.06465517241379311,0.07183908045977011,0.07830459770114942,0.08620689655172414,0.09410919540229885,0.10057471264367816,0.11206896551724138,0.12428160919540229,0.13218390804597702,0.14080459770114942,0.15517241379310345,0.16091954022988506,0.17456896551724138,0.1839080459770115,0.1939655172413793,0.22126436781609196,0.23060344827586207,0.24281609195402298,0.2535919540229885,0.2708333333333333,0.28376436781609193,0.2952586206896552,0.3089080459770115,0.3232758620689655,0.33764367816091956,0.3541666666666667,0.36637931034482757,0.3900862068965517,0.4015804597701149,0.41451149425287354,0.4317528735632184,0.4489942528735632,0.4734195402298851,0.49137931034482757,0.5050287356321839,0.5150862068965517,0.5272988505747126,0.5402298850574713,0.555316091954023,0.5732758620689655,0.5876436781609196,0.5984195402298851,0.6135057471264368,0.6235632183908046,0.6400862068965517,0.6544540229885057,0.6666666666666666,0.6781609195402298,0.6910919540229885,0.7061781609195402,0.7176724137931034,0.7313218390804598,0.7442528735632183,0.7550287356321839,0.7622126436781609,0.7722701149425287,0.7830459770114943,0.7873563218390804,0.798132183908046,0.8067528735632183,0.8175287356321839,0.8290229885057471,0.8362068965517241,0.8433908045977011,0.8570402298850575,0.8613505747126436,0.8692528735632183,0.8764367816091954,0.8836206896551724,0.8908045977011494,0.8987068965517241,0.9015804597701149,0.9073275862068966,0.9109195402298851,0.9202586206896551,0.9281609195402298,0.9331896551724138,0.9389367816091954,0.9489942528735632,0.9533045977011494,0.9576149425287356,0.9633620689655172,0.9669540229885057,0.9734195402298851,0.9813218390804598,0.9885057471264368,1.0],\"type\":\"scatter\"},{\"mode\":\"lines\",\"name\":\"Random Classifier\",\"x\":[0,1],\"y\":[0,1],\"type\":\"scatter\"}],                        {\"template\":{\"data\":{\"histogram2dcontour\":[{\"type\":\"histogram2dcontour\",\"colorbar\":{\"outlinewidth\":0,\"ticks\":\"\"},\"colorscale\":[[0.0,\"#0d0887\"],[0.1111111111111111,\"#46039f\"],[0.2222222222222222,\"#7201a8\"],[0.3333333333333333,\"#9c179e\"],[0.4444444444444444,\"#bd3786\"],[0.5555555555555556,\"#d8576b\"],[0.6666666666666666,\"#ed7953\"],[0.7777777777777778,\"#fb9f3a\"],[0.8888888888888888,\"#fdca26\"],[1.0,\"#f0f921\"]]}],\"choropleth\":[{\"type\":\"choropleth\",\"colorbar\":{\"outlinewidth\":0,\"ticks\":\"\"}}],\"histogram2d\":[{\"type\":\"histogram2d\",\"colorbar\":{\"outlinewidth\":0,\"ticks\":\"\"},\"colorscale\":[[0.0,\"#0d0887\"],[0.1111111111111111,\"#46039f\"],[0.2222222222222222,\"#7201a8\"],[0.3333333333333333,\"#9c179e\"],[0.4444444444444444,\"#bd3786\"],[0.5555555555555556,\"#d8576b\"],[0.6666666666666666,\"#ed7953\"],[0.7777777777777778,\"#fb9f3a\"],[0.8888888888888888,\"#fdca26\"],[1.0,\"#f0f921\"]]}],\"heatmap\":[{\"type\":\"heatmap\",\"colorbar\":{\"outlinewidth\":0,\"ticks\":\"\"},\"colorscale\":[[0.0,\"#0d0887\"],[0.1111111111111111,\"#46039f\"],[0.2222222222222222,\"#7201a8\"],[0.3333333333333333,\"#9c179e\"],[0.4444444444444444,\"#bd3786\"],[0.5555555555555556,\"#d8576b\"],[0.6666666666666666,\"#ed7953\"],[0.7777777777777778,\"#fb9f3a\"],[0.8888888888888888,\"#fdca26\"],[1.0,\"#f0f921\"]]}],\"heatmapgl\":[{\"type\":\"heatmapgl\",\"colorbar\":{\"outlinewidth\":0,\"ticks\":\"\"},\"colorscale\":[[0.0,\"#0d0887\"],[0.1111111111111111,\"#46039f\"],[0.2222222222222222,\"#7201a8\"],[0.3333333333333333,\"#9c179e\"],[0.4444444444444444,\"#bd3786\"],[0.5555555555555556,\"#d8576b\"],[0.6666666666666666,\"#ed7953\"],[0.7777777777777778,\"#fb9f3a\"],[0.8888888888888888,\"#fdca26\"],[1.0,\"#f0f921\"]]}],\"contourcarpet\":[{\"type\":\"contourcarpet\",\"colorbar\":{\"outlinewidth\":0,\"ticks\":\"\"}}],\"contour\":[{\"type\":\"contour\",\"colorbar\":{\"outlinewidth\":0,\"ticks\":\"\"},\"colorscale\":[[0.0,\"#0d0887\"],[0.1111111111111111,\"#46039f\"],[0.2222222222222222,\"#7201a8\"],[0.3333333333333333,\"#9c179e\"],[0.4444444444444444,\"#bd3786\"],[0.5555555555555556,\"#d8576b\"],[0.6666666666666666,\"#ed7953\"],[0.7777777777777778,\"#fb9f3a\"],[0.8888888888888888,\"#fdca26\"],[1.0,\"#f0f921\"]]}],\"surface\":[{\"type\":\"surface\",\"colorbar\":{\"outlinewidth\":0,\"ticks\":\"\"},\"colorscale\":[[0.0,\"#0d0887\"],[0.1111111111111111,\"#46039f\"],[0.2222222222222222,\"#7201a8\"],[0.3333333333333333,\"#9c179e\"],[0.4444444444444444,\"#bd3786\"],[0.5555555555555556,\"#d8576b\"],[0.6666666666666666,\"#ed7953\"],[0.7777777777777778,\"#fb9f3a\"],[0.8888888888888888,\"#fdca26\"],[1.0,\"#f0f921\"]]}],\"mesh3d\":[{\"type\":\"mesh3d\",\"colorbar\":{\"outlinewidth\":0,\"ticks\":\"\"}}],\"scatter\":[{\"fillpattern\":{\"fillmode\":\"overlay\",\"size\":10,\"solidity\":0.2},\"type\":\"scatter\"}],\"parcoords\":[{\"type\":\"parcoords\",\"line\":{\"colorbar\":{\"outlinewidth\":0,\"ticks\":\"\"}}}],\"scatterpolargl\":[{\"type\":\"scatterpolargl\",\"marker\":{\"colorbar\":{\"outlinewidth\":0,\"ticks\":\"\"}}}],\"bar\":[{\"error_x\":{\"color\":\"#2a3f5f\"},\"error_y\":{\"color\":\"#2a3f5f\"},\"marker\":{\"line\":{\"color\":\"#E5ECF6\",\"width\":0.5},\"pattern\":{\"fillmode\":\"overlay\",\"size\":10,\"solidity\":0.2}},\"type\":\"bar\"}],\"scattergeo\":[{\"type\":\"scattergeo\",\"marker\":{\"colorbar\":{\"outlinewidth\":0,\"ticks\":\"\"}}}],\"scatterpolar\":[{\"type\":\"scatterpolar\",\"marker\":{\"colorbar\":{\"outlinewidth\":0,\"ticks\":\"\"}}}],\"histogram\":[{\"marker\":{\"pattern\":{\"fillmode\":\"overlay\",\"size\":10,\"solidity\":0.2}},\"type\":\"histogram\"}],\"scattergl\":[{\"type\":\"scattergl\",\"marker\":{\"colorbar\":{\"outlinewidth\":0,\"ticks\":\"\"}}}],\"scatter3d\":[{\"type\":\"scatter3d\",\"line\":{\"colorbar\":{\"outlinewidth\":0,\"ticks\":\"\"}},\"marker\":{\"colorbar\":{\"outlinewidth\":0,\"ticks\":\"\"}}}],\"scattermapbox\":[{\"type\":\"scattermapbox\",\"marker\":{\"colorbar\":{\"outlinewidth\":0,\"ticks\":\"\"}}}],\"scatterternary\":[{\"type\":\"scatterternary\",\"marker\":{\"colorbar\":{\"outlinewidth\":0,\"ticks\":\"\"}}}],\"scattercarpet\":[{\"type\":\"scattercarpet\",\"marker\":{\"colorbar\":{\"outlinewidth\":0,\"ticks\":\"\"}}}],\"carpet\":[{\"aaxis\":{\"endlinecolor\":\"#2a3f5f\",\"gridcolor\":\"white\",\"linecolor\":\"white\",\"minorgridcolor\":\"white\",\"startlinecolor\":\"#2a3f5f\"},\"baxis\":{\"endlinecolor\":\"#2a3f5f\",\"gridcolor\":\"white\",\"linecolor\":\"white\",\"minorgridcolor\":\"white\",\"startlinecolor\":\"#2a3f5f\"},\"type\":\"carpet\"}],\"table\":[{\"cells\":{\"fill\":{\"color\":\"#EBF0F8\"},\"line\":{\"color\":\"white\"}},\"header\":{\"fill\":{\"color\":\"#C8D4E3\"},\"line\":{\"color\":\"white\"}},\"type\":\"table\"}],\"barpolar\":[{\"marker\":{\"line\":{\"color\":\"#E5ECF6\",\"width\":0.5},\"pattern\":{\"fillmode\":\"overlay\",\"size\":10,\"solidity\":0.2}},\"type\":\"barpolar\"}],\"pie\":[{\"automargin\":true,\"type\":\"pie\"}]},\"layout\":{\"autotypenumbers\":\"strict\",\"colorway\":[\"#636efa\",\"#EF553B\",\"#00cc96\",\"#ab63fa\",\"#FFA15A\",\"#19d3f3\",\"#FF6692\",\"#B6E880\",\"#FF97FF\",\"#FECB52\"],\"font\":{\"color\":\"#2a3f5f\"},\"hovermode\":\"closest\",\"hoverlabel\":{\"align\":\"left\"},\"paper_bgcolor\":\"white\",\"plot_bgcolor\":\"#E5ECF6\",\"polar\":{\"bgcolor\":\"#E5ECF6\",\"angularaxis\":{\"gridcolor\":\"white\",\"linecolor\":\"white\",\"ticks\":\"\"},\"radialaxis\":{\"gridcolor\":\"white\",\"linecolor\":\"white\",\"ticks\":\"\"}},\"ternary\":{\"bgcolor\":\"#E5ECF6\",\"aaxis\":{\"gridcolor\":\"white\",\"linecolor\":\"white\",\"ticks\":\"\"},\"baxis\":{\"gridcolor\":\"white\",\"linecolor\":\"white\",\"ticks\":\"\"},\"caxis\":{\"gridcolor\":\"white\",\"linecolor\":\"white\",\"ticks\":\"\"}},\"coloraxis\":{\"colorbar\":{\"outlinewidth\":0,\"ticks\":\"\"}},\"colorscale\":{\"sequential\":[[0.0,\"#0d0887\"],[0.1111111111111111,\"#46039f\"],[0.2222222222222222,\"#7201a8\"],[0.3333333333333333,\"#9c179e\"],[0.4444444444444444,\"#bd3786\"],[0.5555555555555556,\"#d8576b\"],[0.6666666666666666,\"#ed7953\"],[0.7777777777777778,\"#fb9f3a\"],[0.8888888888888888,\"#fdca26\"],[1.0,\"#f0f921\"]],\"sequentialminus\":[[0.0,\"#0d0887\"],[0.1111111111111111,\"#46039f\"],[0.2222222222222222,\"#7201a8\"],[0.3333333333333333,\"#9c179e\"],[0.4444444444444444,\"#bd3786\"],[0.5555555555555556,\"#d8576b\"],[0.6666666666666666,\"#ed7953\"],[0.7777777777777778,\"#fb9f3a\"],[0.8888888888888888,\"#fdca26\"],[1.0,\"#f0f921\"]],\"diverging\":[[0,\"#8e0152\"],[0.1,\"#c51b7d\"],[0.2,\"#de77ae\"],[0.3,\"#f1b6da\"],[0.4,\"#fde0ef\"],[0.5,\"#f7f7f7\"],[0.6,\"#e6f5d0\"],[0.7,\"#b8e186\"],[0.8,\"#7fbc41\"],[0.9,\"#4d9221\"],[1,\"#276419\"]]},\"xaxis\":{\"gridcolor\":\"white\",\"linecolor\":\"white\",\"ticks\":\"\",\"title\":{\"standoff\":15},\"zerolinecolor\":\"white\",\"automargin\":true,\"zerolinewidth\":2},\"yaxis\":{\"gridcolor\":\"white\",\"linecolor\":\"white\",\"ticks\":\"\",\"title\":{\"standoff\":15},\"zerolinecolor\":\"white\",\"automargin\":true,\"zerolinewidth\":2},\"scene\":{\"xaxis\":{\"backgroundcolor\":\"#E5ECF6\",\"gridcolor\":\"white\",\"linecolor\":\"white\",\"showbackground\":true,\"ticks\":\"\",\"zerolinecolor\":\"white\",\"gridwidth\":2},\"yaxis\":{\"backgroundcolor\":\"#E5ECF6\",\"gridcolor\":\"white\",\"linecolor\":\"white\",\"showbackground\":true,\"ticks\":\"\",\"zerolinecolor\":\"white\",\"gridwidth\":2},\"zaxis\":{\"backgroundcolor\":\"#E5ECF6\",\"gridcolor\":\"white\",\"linecolor\":\"white\",\"showbackground\":true,\"ticks\":\"\",\"zerolinecolor\":\"white\",\"gridwidth\":2}},\"shapedefaults\":{\"line\":{\"color\":\"#2a3f5f\"}},\"annotationdefaults\":{\"arrowcolor\":\"#2a3f5f\",\"arrowhead\":0,\"arrowwidth\":1},\"geo\":{\"bgcolor\":\"white\",\"landcolor\":\"#E5ECF6\",\"subunitcolor\":\"white\",\"showland\":true,\"showlakes\":true,\"lakecolor\":\"white\"},\"title\":{\"x\":0.05},\"mapbox\":{\"style\":\"light\"}}},\"legend\":{\"x\":0.1,\"y\":0.9},\"title\":{\"text\":\"Receiver Operating Characteristic (ROC) Curve\"},\"xaxis\":{\"title\":{\"text\":\"False Positive Rate (FPR)\"}},\"yaxis\":{\"title\":{\"text\":\"True Positive Rate (TPR)\"}},\"annotations\":[{\"bgcolor\":\"white\",\"bordercolor\":\"black\",\"borderwidth\":1,\"font\":{\"size\":12},\"opacity\":0.8,\"showarrow\":false,\"text\":\"F1 Score Model 1: 0.5760<br>F1 Score Model 2: 0.5752\",\"x\":0.5,\"y\":0.1}]},                        {\"responsive\": true}                    ).then(function(){\n",
              "                            \n",
              "var gd = document.getElementById('1f3bad8a-fd6e-4cf7-bc0d-a08187b30f88');\n",
              "var x = new MutationObserver(function (mutations, observer) {{\n",
              "        var display = window.getComputedStyle(gd).display;\n",
              "        if (!display || display === 'none') {{\n",
              "            console.log([gd, 'removed!']);\n",
              "            Plotly.purge(gd);\n",
              "            observer.disconnect();\n",
              "        }}\n",
              "}});\n",
              "\n",
              "// Listen for the removal of the full notebook cells\n",
              "var notebookContainer = gd.closest('#notebook-container');\n",
              "if (notebookContainer) {{\n",
              "    x.observe(notebookContainer, {childList: true});\n",
              "}}\n",
              "\n",
              "// Listen for the clearing of the current output cell\n",
              "var outputEl = gd.closest('.output');\n",
              "if (outputEl) {{\n",
              "    x.observe(outputEl, {childList: true});\n",
              "}}\n",
              "\n",
              "                        })                };                            </script>        </div>\n",
              "</body>\n",
              "</html>"
            ]
          },
          "metadata": {}
        }
      ]
    },
    {
      "cell_type": "code",
      "source": [
        "# Get feature importances from the model\n",
        "importances = model.feature_importances_\n",
        "importances_f = model_f.feature_importances_\n",
        "\n",
        "# Get feature names\n",
        "feature_names = X_encoded.drop('term_deposit',axis=1).columns\n",
        "feature_names_f = X_encoded_featured.drop('term_deposit',axis=1).columns\n",
        "\n",
        "# Create a dictionary with feature names and importances\n",
        "feature_importances = dict(zip(feature_names, importances))\n",
        "feature_importances_f = dict(zip(feature_names_f, importances_f))\n",
        "\n",
        "# Sort the features by importance\n",
        "sorted_features = sorted(feature_importances.items(), key=lambda x: x[1], reverse=True)\n",
        "sorted_features_f = sorted(feature_importances_f.items(), key=lambda x: x[1], reverse=True)\n",
        "\n",
        "# Create a horizontal bar chart of feature importances\n",
        "fig = go.Figure()\n",
        "fig.add_trace(go.Bar(\n",
        "    x=[val[1] for val in sorted_features],\n",
        "    y=[val[0] for val in sorted_features],\n",
        "    orientation='h',\n",
        "    name='Model 1'\n",
        "))\n",
        "fig.add_trace(go.Bar(\n",
        "    x=[val[1] for val in sorted_features_f],\n",
        "    y=[val[0] for val in sorted_features_f],\n",
        "    orientation='h',\n",
        "    name='Model 2'\n",
        "))\n",
        "fig.update_layout(\n",
        "    title='Feature Importances',\n",
        "    xaxis_title='Importance',\n",
        "    yaxis_title='Feature',\n",
        "    height=500,\n",
        ")\n",
        "fig.show()\n"
      ],
      "metadata": {
        "colab": {
          "base_uri": "https://localhost:8080/",
          "height": 517
        },
        "id": "d4_tokgPkjAJ",
        "outputId": "7c2e7118-2980-47cf-bf6e-764f06d19263"
      },
      "execution_count": null,
      "outputs": [
        {
          "output_type": "display_data",
          "data": {
            "text/html": [
              "<html>\n",
              "<head><meta charset=\"utf-8\" /></head>\n",
              "<body>\n",
              "    <div>            <script src=\"https://cdnjs.cloudflare.com/ajax/libs/mathjax/2.7.5/MathJax.js?config=TeX-AMS-MML_SVG\"></script><script type=\"text/javascript\">if (window.MathJax && window.MathJax.Hub && window.MathJax.Hub.Config) {window.MathJax.Hub.Config({SVG: {font: \"STIX-Web\"}});}</script>                <script type=\"text/javascript\">window.PlotlyConfig = {MathJaxConfig: 'local'};</script>\n",
              "        <script src=\"https://cdn.plot.ly/plotly-2.18.2.min.js\"></script>                <div id=\"9eb9bf69-db6b-4493-809f-ee0632ce5a5b\" class=\"plotly-graph-div\" style=\"height:500px; width:100%;\"></div>            <script type=\"text/javascript\">                                    window.PLOTLYENV=window.PLOTLYENV || {};                                    if (document.getElementById(\"9eb9bf69-db6b-4493-809f-ee0632ce5a5b\")) {                    Plotly.newPlot(                        \"9eb9bf69-db6b-4493-809f-ee0632ce5a5b\",                        [{\"name\":\"Model 1\",\"orientation\":\"h\",\"x\":[0.29514024812159106,0.10037638630988423,0.08113124723093598,0.05481297735445253,0.03983052746102354,0.03724562000500671,0.02544063838676591,0.023977020982378913,0.023508836386531774,0.021582094358611796,0.02098097520957799,0.015005606413469805,0.014954428586428765,0.01417233909971142,0.013129178461848814,0.012358540575139257,0.01224017219144626,0.011926739317209202,0.011896047298741209,0.011654507479382218,0.011581400626649078,0.01154277465062533,0.01132860364435739,0.010464445478447446,0.009136202182483736,0.008878988317206911,0.008604681165568994,0.007737469673200119,0.007365893157826882,0.006642177871411267,0.006203194891491523,0.005261399643599109,0.0050439287418707944,0.00478628185266552,0.00460800297444883,0.004394697353037392,0.004343755897772963,0.00407344577769779,0.003983488066980262,0.003910719918440557,0.003596865030602163,0.0027251511730164804,0.0025219939275355962,0.0025204216742716105,0.002180295965262992,0.0018611220992677787,0.0016972473627025453,0.0007213995172793774,0.0006336437184218122,0.00028617641572024145],\"y\":[\"duration\",\"euribor3m\",\"age\",\"nr.employed\",\"campaign\",\"pdays\",\"poutcome\",\"cons.conf.idx\",\"cons.price.idx\",\"housing\",\"emp.var.rate\",\"previous\",\"loan\",\"Ethnicity_African\",\"marital_married\",\"education_university.degree\",\"day_of_week_mon\",\"education_high.school\",\"marital_single\",\"day_of_week_thu\",\"day_of_week_wed\",\"job_technician\",\"day_of_week_tue\",\"contact\",\"job_blue-collar\",\"education_professional.course\",\"default\",\"education_basic.9y\",\"job_management\",\"job_services\",\"job_retired\",\"education_unknown\",\"month_may\",\"month_oct\",\"education_basic.6y\",\"job_student\",\"job_self-employed\",\"job_unemployed\",\"job_entrepreneur\",\"month_mar\",\"job_housemaid\",\"month_jun\",\"month_jul\",\"month_aug\",\"month_nov\",\"job_unknown\",\"month_sep\",\"month_dec\",\"marital_unknown\",\"education_illiterate\"],\"type\":\"bar\"},{\"name\":\"Model 2\",\"orientation\":\"h\",\"x\":[0.20476483702732098,0.04740979394648986,0.043334113059274794,0.041714821978873926,0.04098835674963112,0.04049082484735942,0.03603682836011826,0.034869633379254014,0.03242599687525897,0.03220854934251763,0.030840640479953368,0.030047297277845393,0.02707188959354439,0.02474263673677526,0.01835312374831684,0.018087448351769772,0.017074537733959123,0.016490022505886215,0.015867445144153496,0.013667684132178889,0.011289568393387095,0.010959846745811066,0.0097278658823542,0.009608041359842718,0.00823193439736464,0.00804564820726338,0.007829067239345601,0.007766667406232927,0.0071179383232326384,0.005850091195788817,0.00576312402641955,0.0055958800645255925,0.00542390520898169,0.0050391273794797515,0.0049545775237114925,0.00453902937979848,0.0042162756234816745,0.0041801143150783805,0.003982034654838394,0.0038273504250505006,0.0036601353647459033,0.003597066691766175,0.003239485215401383,0.003088363250567878,0.002972472548963022,0.002809594814471131,0.0025902146512964746,0.0025752598276841854,0.0025741147999252976,0.002522869517180324,0.002475707530337442,0.0024088297211117536,0.002335317062407892,0.00229046820191755,0.002270449130088878,0.002128580383267755,0.0019855172622430767,0.0019064151159257758,0.0018790461954138215,0.0018041947373786081,0.0017975377235739738,0.0017659320226592154,0.0017280754115037396,0.0016532000095031867,0.0015090213699733856,0.001497907491912355,0.0014509063056477693,0.0014271125133111084,0.001394211184266928,0.001393448977864964,0.0013679435288929272,0.0013180335894269668,0.0013040950118055538,0.0012722259092218847,0.0012706834011558287,0.0012110357457909286,0.0011613213989601437,0.0011592756366918529,0.001083138360881598,0.0010579893531049902,0.0010451497090455872,0.0010388050893899857,0.001024962185408168,0.001016737194091672,0.0009832945015678135,0.0009767349236900504,0.0009158610733986915,0.0009070289506234256,0.0008937335789071309,0.0008104397138561004,0.0007263454128794264,0.0007162165908324562,0.0006692525638198318,0.000628288123030712,0.0006266605880352751,0.0006079474254540746,0.0006023421652922357,0.0004847608924013334,0.0004801566904949024,0.00047418932243289735,0.0004495723131888435,0.000441453730834866,0.0004222897923309633,0.00041663810112506193,0.0003856502963663066,0.0003820440225448224,0.00037318845959519447,0.00036974058857736054,0.0003302009833020463,0.0002696916110132867,0.00019994782563099604,0.00011587547241449793,0.00010915514210682234,0.00010818147157722981,0.00010555397039237401,7.436785380925774e-05,7.27005383990218e-05,5.6050216202634795e-05,5.25757104659054e-05,4.9515627847755756e-05,4.890116001953317e-05,4.387438986387849e-05,4.3340630072502915e-05,2.579471754178098e-05,2.3015878370554676e-05,1.4686270179887018e-05,7.7652353340122e-06,7.5553055269650935e-06,0.0,0.0,0.0],\"y\":[\"duration_minutes\",\"age euribor3m\",\"age pdays\",\"age emp.var.rate\",\"cons.conf.idx euribor3m\",\"age cons.conf.idx\",\"pdays euribor3m\",\"cons.price.idx nr.employed\",\"euribor3m nr.employed\",\"cons.price.idx euribor3m\",\"campaign euribor3m\",\"euribor3m\",\"emp.var.rate euribor3m\",\"pdays nr.employed\",\"campaign pdays\",\"pdays cons.conf.idx\",\"campaign cons.conf.idx\",\"campaign cons.price.idx\",\"campaign nr.employed\",\"previous euribor3m\",\"emp.var.rate cons.conf.idx\",\"pdays cons.price.idx\",\"poutcome\",\"nr.employed\",\"edu_dur_university.degree10-15\",\"edu_dur_high.school10-15\",\"edu_dur_university.degree5-10\",\"emp.var.rate cons.price.idx\",\"edu_dur_university.degree0-5\",\"pdays emp.var.rate\",\"pdays\",\"edu_dur_high.school0-5\",\"edu_dur_high.school5-10\",\"edu_dur_university.degree15-20\",\"edu_dur_high.school15-20\",\"evr_job_Mediumadmin.\",\"edu_dur_university.degree20-30\",\"evr_job_Mediumtechnician\",\"edu_dur_basic.9y15-20\",\"edu_dur_basic.9y10-15\",\"edu_dur_professional.course5-10\",\"edu_dur_professional.course0-5\",\"edu_dur_professional.course10-15\",\"evr_job_Mediumblue-collar\",\"edu_dur_basic.6y10-15\",\"edu_dur_basic.9y0-5\",\"edu_dur_basic.4y5-10\",\"evr_job_Mediummanagement\",\"evr_job_Highblue-collar\",\"evr_job_Lowadmin.\",\"edu_dur_basic.9y5-10\",\"month_oct\",\"evr_job_Mediumservices\",\"edu_dur_basic.4y10-15\",\"evr_job_Hightechnician\",\"edu_dur_high.school20-30\",\"evr_job_Lowtechnician\",\"evr_job_Mediumretired\",\"edu_dur_basic.9y20-30\",\"evr_job_Highservices\",\"edu_dur_unknown0-5\",\"edu_dur_basic.6y15-20\",\"edu_dur_unknown5-10\",\"month_may\",\"edu_dur_basic.4y20-30\",\"evr_job_Mediumself-employed\",\"evr_job_Mediumentrepreneur\",\"edu_dur_professional.course15-20\",\"evr_job_Highmanagement\",\"edu_dur_professional.course20-30\",\"evr_job_Mediumstudent\",\"evr_job_Mediumunemployed\",\"edu_dur_basic.4y15-20\",\"evr_job_Lowmanagement\",\"evr_job_Highentrepreneur\",\"month_jun\",\"edu_dur_basic.6y5-10\",\"evr_job_Lowretired\",\"evr_job_Lowblue-collar\",\"edu_dur_basic.6y0-5\",\"evr_job_Mediumhousemaid\",\"month_jul\",\"month_aug\",\"edu_dur_unknown10-15\",\"evr_job_Highself-employed\",\"month_mar\",\"evr_job_Lowstudent\",\"evr_job_Highhousemaid\",\"edu_dur_unknown15-20\",\"evr_job_Lowunemployed\",\"evr_job_Highretired\",\"evr_job_Lowself-employed\",\"evr_job_Lowservices\",\"evr_job_Highunemployed\",\"month_nov\",\"edu_dur_basic.9y30-40\",\"evr_job_Lowhousemaid\",\"edu_dur_unknown20-30\",\"month_sep\",\"edu_dur_basic.6y20-30\",\"edu_dur_high.school30-40\",\"evr_job_Highstudent\",\"edu_dur_basic.6y30-40\",\"evr_job_Lowunknown\",\"evr_job_Mediumunknown\",\"evr_job_Lowentrepreneur\",\"evr_job_Highunknown\",\"edu_dur_university.degree40-50\",\"edu_dur_university.degree30-40\",\"month_dec\",\"edu_dur_basic.4y30-40\",\"edu_dur_illiterate5-10\",\"edu_dur_professional.course30-40\",\"edu_dur_high.school40-50\",\"edu_dur_high.school50-60\",\"edu_dur_unknown30-40\",\"edu_dur_basic.9y50-60\",\"edu_dur_basic.9y40-50\",\"edu_dur_illiterate10-15\",\"edu_dur_basic.4y60-90\",\"edu_dur_illiterate0-5\",\"edu_dur_basic.6y40-50\",\"edu_dur_professional.course60-90\",\"edu_dur_professional.course50-60\",\"edu_dur_illiterate15-20\",\"edu_dur_university.degree50-60\",\"edu_dur_professional.course40-50\",\"edu_dur_basic.4y50-60\",\"edu_dur_basic.4y40-50\",\"edu_dur_basic.6y50-60\",\"edu_dur_high.school60-90\"],\"type\":\"bar\"}],                        {\"template\":{\"data\":{\"histogram2dcontour\":[{\"type\":\"histogram2dcontour\",\"colorbar\":{\"outlinewidth\":0,\"ticks\":\"\"},\"colorscale\":[[0.0,\"#0d0887\"],[0.1111111111111111,\"#46039f\"],[0.2222222222222222,\"#7201a8\"],[0.3333333333333333,\"#9c179e\"],[0.4444444444444444,\"#bd3786\"],[0.5555555555555556,\"#d8576b\"],[0.6666666666666666,\"#ed7953\"],[0.7777777777777778,\"#fb9f3a\"],[0.8888888888888888,\"#fdca26\"],[1.0,\"#f0f921\"]]}],\"choropleth\":[{\"type\":\"choropleth\",\"colorbar\":{\"outlinewidth\":0,\"ticks\":\"\"}}],\"histogram2d\":[{\"type\":\"histogram2d\",\"colorbar\":{\"outlinewidth\":0,\"ticks\":\"\"},\"colorscale\":[[0.0,\"#0d0887\"],[0.1111111111111111,\"#46039f\"],[0.2222222222222222,\"#7201a8\"],[0.3333333333333333,\"#9c179e\"],[0.4444444444444444,\"#bd3786\"],[0.5555555555555556,\"#d8576b\"],[0.6666666666666666,\"#ed7953\"],[0.7777777777777778,\"#fb9f3a\"],[0.8888888888888888,\"#fdca26\"],[1.0,\"#f0f921\"]]}],\"heatmap\":[{\"type\":\"heatmap\",\"colorbar\":{\"outlinewidth\":0,\"ticks\":\"\"},\"colorscale\":[[0.0,\"#0d0887\"],[0.1111111111111111,\"#46039f\"],[0.2222222222222222,\"#7201a8\"],[0.3333333333333333,\"#9c179e\"],[0.4444444444444444,\"#bd3786\"],[0.5555555555555556,\"#d8576b\"],[0.6666666666666666,\"#ed7953\"],[0.7777777777777778,\"#fb9f3a\"],[0.8888888888888888,\"#fdca26\"],[1.0,\"#f0f921\"]]}],\"heatmapgl\":[{\"type\":\"heatmapgl\",\"colorbar\":{\"outlinewidth\":0,\"ticks\":\"\"},\"colorscale\":[[0.0,\"#0d0887\"],[0.1111111111111111,\"#46039f\"],[0.2222222222222222,\"#7201a8\"],[0.3333333333333333,\"#9c179e\"],[0.4444444444444444,\"#bd3786\"],[0.5555555555555556,\"#d8576b\"],[0.6666666666666666,\"#ed7953\"],[0.7777777777777778,\"#fb9f3a\"],[0.8888888888888888,\"#fdca26\"],[1.0,\"#f0f921\"]]}],\"contourcarpet\":[{\"type\":\"contourcarpet\",\"colorbar\":{\"outlinewidth\":0,\"ticks\":\"\"}}],\"contour\":[{\"type\":\"contour\",\"colorbar\":{\"outlinewidth\":0,\"ticks\":\"\"},\"colorscale\":[[0.0,\"#0d0887\"],[0.1111111111111111,\"#46039f\"],[0.2222222222222222,\"#7201a8\"],[0.3333333333333333,\"#9c179e\"],[0.4444444444444444,\"#bd3786\"],[0.5555555555555556,\"#d8576b\"],[0.6666666666666666,\"#ed7953\"],[0.7777777777777778,\"#fb9f3a\"],[0.8888888888888888,\"#fdca26\"],[1.0,\"#f0f921\"]]}],\"surface\":[{\"type\":\"surface\",\"colorbar\":{\"outlinewidth\":0,\"ticks\":\"\"},\"colorscale\":[[0.0,\"#0d0887\"],[0.1111111111111111,\"#46039f\"],[0.2222222222222222,\"#7201a8\"],[0.3333333333333333,\"#9c179e\"],[0.4444444444444444,\"#bd3786\"],[0.5555555555555556,\"#d8576b\"],[0.6666666666666666,\"#ed7953\"],[0.7777777777777778,\"#fb9f3a\"],[0.8888888888888888,\"#fdca26\"],[1.0,\"#f0f921\"]]}],\"mesh3d\":[{\"type\":\"mesh3d\",\"colorbar\":{\"outlinewidth\":0,\"ticks\":\"\"}}],\"scatter\":[{\"fillpattern\":{\"fillmode\":\"overlay\",\"size\":10,\"solidity\":0.2},\"type\":\"scatter\"}],\"parcoords\":[{\"type\":\"parcoords\",\"line\":{\"colorbar\":{\"outlinewidth\":0,\"ticks\":\"\"}}}],\"scatterpolargl\":[{\"type\":\"scatterpolargl\",\"marker\":{\"colorbar\":{\"outlinewidth\":0,\"ticks\":\"\"}}}],\"bar\":[{\"error_x\":{\"color\":\"#2a3f5f\"},\"error_y\":{\"color\":\"#2a3f5f\"},\"marker\":{\"line\":{\"color\":\"#E5ECF6\",\"width\":0.5},\"pattern\":{\"fillmode\":\"overlay\",\"size\":10,\"solidity\":0.2}},\"type\":\"bar\"}],\"scattergeo\":[{\"type\":\"scattergeo\",\"marker\":{\"colorbar\":{\"outlinewidth\":0,\"ticks\":\"\"}}}],\"scatterpolar\":[{\"type\":\"scatterpolar\",\"marker\":{\"colorbar\":{\"outlinewidth\":0,\"ticks\":\"\"}}}],\"histogram\":[{\"marker\":{\"pattern\":{\"fillmode\":\"overlay\",\"size\":10,\"solidity\":0.2}},\"type\":\"histogram\"}],\"scattergl\":[{\"type\":\"scattergl\",\"marker\":{\"colorbar\":{\"outlinewidth\":0,\"ticks\":\"\"}}}],\"scatter3d\":[{\"type\":\"scatter3d\",\"line\":{\"colorbar\":{\"outlinewidth\":0,\"ticks\":\"\"}},\"marker\":{\"colorbar\":{\"outlinewidth\":0,\"ticks\":\"\"}}}],\"scattermapbox\":[{\"type\":\"scattermapbox\",\"marker\":{\"colorbar\":{\"outlinewidth\":0,\"ticks\":\"\"}}}],\"scatterternary\":[{\"type\":\"scatterternary\",\"marker\":{\"colorbar\":{\"outlinewidth\":0,\"ticks\":\"\"}}}],\"scattercarpet\":[{\"type\":\"scattercarpet\",\"marker\":{\"colorbar\":{\"outlinewidth\":0,\"ticks\":\"\"}}}],\"carpet\":[{\"aaxis\":{\"endlinecolor\":\"#2a3f5f\",\"gridcolor\":\"white\",\"linecolor\":\"white\",\"minorgridcolor\":\"white\",\"startlinecolor\":\"#2a3f5f\"},\"baxis\":{\"endlinecolor\":\"#2a3f5f\",\"gridcolor\":\"white\",\"linecolor\":\"white\",\"minorgridcolor\":\"white\",\"startlinecolor\":\"#2a3f5f\"},\"type\":\"carpet\"}],\"table\":[{\"cells\":{\"fill\":{\"color\":\"#EBF0F8\"},\"line\":{\"color\":\"white\"}},\"header\":{\"fill\":{\"color\":\"#C8D4E3\"},\"line\":{\"color\":\"white\"}},\"type\":\"table\"}],\"barpolar\":[{\"marker\":{\"line\":{\"color\":\"#E5ECF6\",\"width\":0.5},\"pattern\":{\"fillmode\":\"overlay\",\"size\":10,\"solidity\":0.2}},\"type\":\"barpolar\"}],\"pie\":[{\"automargin\":true,\"type\":\"pie\"}]},\"layout\":{\"autotypenumbers\":\"strict\",\"colorway\":[\"#636efa\",\"#EF553B\",\"#00cc96\",\"#ab63fa\",\"#FFA15A\",\"#19d3f3\",\"#FF6692\",\"#B6E880\",\"#FF97FF\",\"#FECB52\"],\"font\":{\"color\":\"#2a3f5f\"},\"hovermode\":\"closest\",\"hoverlabel\":{\"align\":\"left\"},\"paper_bgcolor\":\"white\",\"plot_bgcolor\":\"#E5ECF6\",\"polar\":{\"bgcolor\":\"#E5ECF6\",\"angularaxis\":{\"gridcolor\":\"white\",\"linecolor\":\"white\",\"ticks\":\"\"},\"radialaxis\":{\"gridcolor\":\"white\",\"linecolor\":\"white\",\"ticks\":\"\"}},\"ternary\":{\"bgcolor\":\"#E5ECF6\",\"aaxis\":{\"gridcolor\":\"white\",\"linecolor\":\"white\",\"ticks\":\"\"},\"baxis\":{\"gridcolor\":\"white\",\"linecolor\":\"white\",\"ticks\":\"\"},\"caxis\":{\"gridcolor\":\"white\",\"linecolor\":\"white\",\"ticks\":\"\"}},\"coloraxis\":{\"colorbar\":{\"outlinewidth\":0,\"ticks\":\"\"}},\"colorscale\":{\"sequential\":[[0.0,\"#0d0887\"],[0.1111111111111111,\"#46039f\"],[0.2222222222222222,\"#7201a8\"],[0.3333333333333333,\"#9c179e\"],[0.4444444444444444,\"#bd3786\"],[0.5555555555555556,\"#d8576b\"],[0.6666666666666666,\"#ed7953\"],[0.7777777777777778,\"#fb9f3a\"],[0.8888888888888888,\"#fdca26\"],[1.0,\"#f0f921\"]],\"sequentialminus\":[[0.0,\"#0d0887\"],[0.1111111111111111,\"#46039f\"],[0.2222222222222222,\"#7201a8\"],[0.3333333333333333,\"#9c179e\"],[0.4444444444444444,\"#bd3786\"],[0.5555555555555556,\"#d8576b\"],[0.6666666666666666,\"#ed7953\"],[0.7777777777777778,\"#fb9f3a\"],[0.8888888888888888,\"#fdca26\"],[1.0,\"#f0f921\"]],\"diverging\":[[0,\"#8e0152\"],[0.1,\"#c51b7d\"],[0.2,\"#de77ae\"],[0.3,\"#f1b6da\"],[0.4,\"#fde0ef\"],[0.5,\"#f7f7f7\"],[0.6,\"#e6f5d0\"],[0.7,\"#b8e186\"],[0.8,\"#7fbc41\"],[0.9,\"#4d9221\"],[1,\"#276419\"]]},\"xaxis\":{\"gridcolor\":\"white\",\"linecolor\":\"white\",\"ticks\":\"\",\"title\":{\"standoff\":15},\"zerolinecolor\":\"white\",\"automargin\":true,\"zerolinewidth\":2},\"yaxis\":{\"gridcolor\":\"white\",\"linecolor\":\"white\",\"ticks\":\"\",\"title\":{\"standoff\":15},\"zerolinecolor\":\"white\",\"automargin\":true,\"zerolinewidth\":2},\"scene\":{\"xaxis\":{\"backgroundcolor\":\"#E5ECF6\",\"gridcolor\":\"white\",\"linecolor\":\"white\",\"showbackground\":true,\"ticks\":\"\",\"zerolinecolor\":\"white\",\"gridwidth\":2},\"yaxis\":{\"backgroundcolor\":\"#E5ECF6\",\"gridcolor\":\"white\",\"linecolor\":\"white\",\"showbackground\":true,\"ticks\":\"\",\"zerolinecolor\":\"white\",\"gridwidth\":2},\"zaxis\":{\"backgroundcolor\":\"#E5ECF6\",\"gridcolor\":\"white\",\"linecolor\":\"white\",\"showbackground\":true,\"ticks\":\"\",\"zerolinecolor\":\"white\",\"gridwidth\":2}},\"shapedefaults\":{\"line\":{\"color\":\"#2a3f5f\"}},\"annotationdefaults\":{\"arrowcolor\":\"#2a3f5f\",\"arrowhead\":0,\"arrowwidth\":1},\"geo\":{\"bgcolor\":\"white\",\"landcolor\":\"#E5ECF6\",\"subunitcolor\":\"white\",\"showland\":true,\"showlakes\":true,\"lakecolor\":\"white\"},\"title\":{\"x\":0.05},\"mapbox\":{\"style\":\"light\"}}},\"title\":{\"text\":\"Feature Importances\"},\"xaxis\":{\"title\":{\"text\":\"Importance\"}},\"yaxis\":{\"title\":{\"text\":\"Feature\"}},\"height\":500},                        {\"responsive\": true}                    ).then(function(){\n",
              "                            \n",
              "var gd = document.getElementById('9eb9bf69-db6b-4493-809f-ee0632ce5a5b');\n",
              "var x = new MutationObserver(function (mutations, observer) {{\n",
              "        var display = window.getComputedStyle(gd).display;\n",
              "        if (!display || display === 'none') {{\n",
              "            console.log([gd, 'removed!']);\n",
              "            Plotly.purge(gd);\n",
              "            observer.disconnect();\n",
              "        }}\n",
              "}});\n",
              "\n",
              "// Listen for the removal of the full notebook cells\n",
              "var notebookContainer = gd.closest('#notebook-container');\n",
              "if (notebookContainer) {{\n",
              "    x.observe(notebookContainer, {childList: true});\n",
              "}}\n",
              "\n",
              "// Listen for the clearing of the current output cell\n",
              "var outputEl = gd.closest('.output');\n",
              "if (outputEl) {{\n",
              "    x.observe(outputEl, {childList: true});\n",
              "}}\n",
              "\n",
              "                        })                };                            </script>        </div>\n",
              "</body>\n",
              "</html>"
            ]
          },
          "metadata": {}
        }
      ]
    }
  ]
}